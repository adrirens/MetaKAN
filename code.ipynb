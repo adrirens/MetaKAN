{
  "nbformat": 4,
  "nbformat_minor": 0,
  "metadata": {
    "colab": {
      "provenance": [],
      "authorship_tag": "ABX9TyORinfSCSpy3Z8UQyH5x8yr",
      "include_colab_link": true
    },
    "kernelspec": {
      "name": "python3",
      "display_name": "Python 3"
    },
    "language_info": {
      "name": "python"
    }
  },
  "cells": [
    {
      "cell_type": "markdown",
      "metadata": {
        "id": "view-in-github",
        "colab_type": "text"
      },
      "source": [
        "<a href=\"https://colab.research.google.com/github/adrirens/MetaKAN/blob/main/code.ipynb\" target=\"_parent\"><img src=\"https://colab.research.google.com/assets/colab-badge.svg\" alt=\"Open In Colab\"/></a>"
      ]
    },
    {
      "cell_type": "code",
      "execution_count": 1,
      "metadata": {
        "colab": {
          "base_uri": "https://localhost:8080/"
        },
        "id": "9dkoqGi5BclQ",
        "outputId": "ba7551b6-119c-4c57-e8d2-9e16f2fa3a12"
      },
      "outputs": [
        {
          "output_type": "stream",
          "name": "stdout",
          "text": [
            "Mounted at /content/drive\n",
            "mkdir: cannot create directory ‘/content/drive/MyDrive/mml’: File exists\n",
            "/content/drive/MyDrive/mml\n"
          ]
        }
      ],
      "source": [
        "from google.colab import drive\n",
        "from os.path import join\n",
        "\n",
        "ROOT = '/content/drive'     # default for the drive\n",
        "PROJ = 'MyDrive/mml'       # path to your project on Drive\n",
        "\n",
        "drive.mount(ROOT)           # we mount the drive at /content/drive\n",
        "\n",
        "PROJECT_PATH = join(ROOT, PROJ)\n",
        "!mkdir \"{PROJECT_PATH}\"    # in case we haven't created it already\n",
        "%cd \"{PROJECT_PATH}\""
      ]
    },
    {
      "cell_type": "code",
      "source": [
        "GIT_USERNAME = \"adrirens\"  # This is a shared repository. If you want to synchronize with your own fork, well, you need to fork the github repository and replace the given name by your username.\n",
        "GIT_TOKEN = \"XXX\"  # This token is used only if you work with your own fork. You have to generate it and put it here. Make sure to keep it confidential: it is a very sensitive information!\n",
        "GIT_REPOSITORY = \"MetaKAN\""
      ],
      "metadata": {
        "id": "5M2kmzj3DNQa"
      },
      "execution_count": 2,
      "outputs": []
    },
    {
      "cell_type": "code",
      "source": [
        "# GIT_PATH = \"https://\"+GIT_TOKEN+\"@github.com/\"+GIT_USERNAME+\"/\"+GIT_REPOSITORY+\".git\"\n",
        "GIT_PATH = \"https://github.com/\"+GIT_USERNAME+\"/\"+GIT_REPOSITORY+\".git\"\n",
        "!git clone \"{GIT_PATH}\"\n",
        "!cd \"{GIT_REPOSITORY}\""
      ],
      "metadata": {
        "colab": {
          "base_uri": "https://localhost:8080/"
        },
        "id": "0ZZywTDbBuER",
        "outputId": "bb66aae4-4635-41b1-ef4f-568d878572c0"
      },
      "execution_count": 3,
      "outputs": [
        {
          "output_type": "stream",
          "name": "stdout",
          "text": [
            "fatal: destination path 'MetaKAN' already exists and is not an empty directory.\n"
          ]
        }
      ]
    },
    {
      "cell_type": "code",
      "source": [
        "!ls"
      ],
      "metadata": {
        "id": "s6h_0AUtDWDT",
        "colab": {
          "base_uri": "https://localhost:8080/"
        },
        "outputId": "039b1f95-ea91-4f57-a0b9-b8c761e27955"
      },
      "execution_count": 7,
      "outputs": [
        {
          "output_type": "stream",
          "name": "stdout",
          "text": [
            "MetaKAN\n"
          ]
        }
      ]
    },
    {
      "cell_type": "code",
      "source": [],
      "metadata": {
        "id": "eO_pUPY1KB5S"
      },
      "execution_count": 5,
      "outputs": []
    },
    {
      "cell_type": "code",
      "source": [
        "!python   MetaKAN/function_fitting/train.py --model KAN --optimizer lbfgs --lr 1 --dataset I.6.20b --layers_width 5 5 5 --loss mse"
      ],
      "metadata": {
        "colab": {
          "base_uri": "https://localhost:8080/"
        },
        "id": "5_MQ93PCKbpc",
        "outputId": "c77a4fca-7b42-4598-f9af-b9100016b525"
      },
      "execution_count": 10,
      "outputs": [
        {
          "output_type": "stream",
          "name": "stdout",
          "text": [
            "Traceback (most recent call last):\n",
            "  File \"/content/drive/MyDrive/mml/MetaKAN/function_fitting/train.py\", line 11, in <module>\n",
            "    from fvcore.common.timer import Timer\n",
            "ModuleNotFoundError: No module named 'fvcore'\n"
          ]
        }
      ]
    },
    {
      "cell_type": "code",
      "source": [
        "!python MetaKAN/function_fitting/train_hyper.py --model HyperKAN --optimizer lbfgs --lr 1 --dataset I.6.20b --layers_width 5 5 5 --loss mse --embedding_dim 1 --hidden_dim 16"
      ],
      "metadata": {
        "id": "nOqNqg6pKnSq",
        "outputId": "b64a37b2-e40d-481d-affd-4a5e79179aa2",
        "colab": {
          "base_uri": "https://localhost:8080/"
        }
      },
      "execution_count": 11,
      "outputs": [
        {
          "output_type": "stream",
          "name": "stdout",
          "text": [
            "Traceback (most recent call last):\n",
            "  File \"/content/drive/MyDrive/mml/MetaKAN/function_fitting/train_hyper.py\", line 11, in <module>\n",
            "    from fvcore.common.timer import Timer\n",
            "ModuleNotFoundError: No module named 'fvcore'\n"
          ]
        }
      ]
    },
    {
      "cell_type": "code",
      "source": [],
      "metadata": {
        "id": "ySPBl89pyCsA"
      },
      "execution_count": null,
      "outputs": []
    }
  ]
}