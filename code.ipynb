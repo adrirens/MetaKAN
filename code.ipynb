{
  "nbformat": 4,
  "nbformat_minor": 0,
  "metadata": {
    "colab": {
      "provenance": [],
      "authorship_tag": "ABX9TyMrMD3zD8+BQEi47tuQmJnJ",
      "include_colab_link": true
    },
    "kernelspec": {
      "name": "python3",
      "display_name": "Python 3"
    },
    "language_info": {
      "name": "python"
    }
  },
  "cells": [
    {
      "cell_type": "markdown",
      "metadata": {
        "id": "view-in-github",
        "colab_type": "text"
      },
      "source": [
        "<a href=\"https://colab.research.google.com/github/adrirens/MetaKAN/blob/main/code.ipynb\" target=\"_parent\"><img src=\"https://colab.research.google.com/assets/colab-badge.svg\" alt=\"Open In Colab\"/></a>"
      ]
    },
    {
      "cell_type": "code",
      "execution_count": 1,
      "metadata": {
        "colab": {
          "base_uri": "https://localhost:8080/"
        },
        "id": "9dkoqGi5BclQ",
        "outputId": "ba7551b6-119c-4c57-e8d2-9e16f2fa3a12"
      },
      "outputs": [
        {
          "output_type": "stream",
          "name": "stdout",
          "text": [
            "Mounted at /content/drive\n",
            "mkdir: cannot create directory ‘/content/drive/MyDrive/mml’: File exists\n",
            "/content/drive/MyDrive/mml\n"
          ]
        }
      ],
      "source": [
        "from google.colab import drive\n",
        "from os.path import join\n",
        "\n",
        "ROOT = '/content/drive'     # default for the drive\n",
        "PROJ = 'MyDrive/mml'       # path to your project on Drive\n",
        "\n",
        "drive.mount(ROOT)           # we mount the drive at /content/drive\n",
        "\n",
        "PROJECT_PATH = join(ROOT, PROJ)\n",
        "!mkdir \"{PROJECT_PATH}\"    # in case we haven't created it already\n",
        "%cd \"{PROJECT_PATH}\""
      ]
    },
    {
      "cell_type": "code",
      "source": [
        "GIT_USERNAME = \"adrirens\"  # This is a shared repository. If you want to synchronize with your own fork, well, you need to fork the github repository and replace the given name by your username.\n",
        "GIT_TOKEN = \"XXX\"  # This token is used only if you work with your own fork. You have to generate it and put it here. Make sure to keep it confidential: it is a very sensitive information!\n",
        "GIT_REPOSITORY = \"MetaKAN\""
      ],
      "metadata": {
        "id": "5M2kmzj3DNQa"
      },
      "execution_count": 2,
      "outputs": []
    },
    {
      "cell_type": "code",
      "source": [
        "# GIT_PATH = \"https://\"+GIT_TOKEN+\"@github.com/\"+GIT_USERNAME+\"/\"+GIT_REPOSITORY+\".git\"\n",
        "GIT_PATH = \"https://github.com/\"+GIT_USERNAME+\"/\"+GIT_REPOSITORY+\".git\"\n",
        "!git clone \"{GIT_PATH}\"\n",
        "!cd \"{GIT_REPOSITORY}\""
      ],
      "metadata": {
        "colab": {
          "base_uri": "https://localhost:8080/"
        },
        "id": "0ZZywTDbBuER",
        "outputId": "8eab8ac6-0f35-4a2a-b2c6-d5d3e4b58468"
      },
      "execution_count": 12,
      "outputs": [
        {
          "output_type": "stream",
          "name": "stdout",
          "text": [
            "fatal: destination path 'MetaKAN' already exists and is not an empty directory.\n"
          ]
        }
      ]
    },
    {
      "cell_type": "code",
      "source": [
        "!ls"
      ],
      "metadata": {
        "id": "s6h_0AUtDWDT",
        "colab": {
          "base_uri": "https://localhost:8080/"
        },
        "outputId": "115298b2-becc-4bc2-aa5b-6b448cbf9c9a"
      },
      "execution_count": 13,
      "outputs": [
        {
          "output_type": "stream",
          "name": "stdout",
          "text": [
            "MetaKAN\n"
          ]
        }
      ]
    },
    {
      "cell_type": "code",
      "source": [
        "!pip install torch torchvision fvcore iopath yacs tqdm numpy matplotlib"
      ],
      "metadata": {
        "id": "eO_pUPY1KB5S",
        "colab": {
          "base_uri": "https://localhost:8080/"
        },
        "outputId": "06de8956-52b8-4b00-bba8-be0be5f8c219"
      },
      "execution_count": 14,
      "outputs": [
        {
          "output_type": "stream",
          "name": "stdout",
          "text": [
            "Requirement already satisfied: torch in /usr/local/lib/python3.12/dist-packages (2.8.0+cu126)\n",
            "Requirement already satisfied: torchvision in /usr/local/lib/python3.12/dist-packages (0.23.0+cu126)\n",
            "Collecting fvcore\n",
            "  Downloading fvcore-0.1.5.post20221221.tar.gz (50 kB)\n",
            "\u001b[2K     \u001b[90m━━━━━━━━━━━━━━━━━━━━━━━━━━━━━━━━━━━━━━━━\u001b[0m \u001b[32m50.2/50.2 kB\u001b[0m \u001b[31m1.8 MB/s\u001b[0m eta \u001b[36m0:00:00\u001b[0m\n",
            "\u001b[?25h  Preparing metadata (setup.py) ... \u001b[?25l\u001b[?25hdone\n",
            "Collecting iopath\n",
            "  Downloading iopath-0.1.10.tar.gz (42 kB)\n",
            "\u001b[2K     \u001b[90m━━━━━━━━━━━━━━━━━━━━━━━━━━━━━━━━━━━━━━━━\u001b[0m \u001b[32m42.2/42.2 kB\u001b[0m \u001b[31m3.0 MB/s\u001b[0m eta \u001b[36m0:00:00\u001b[0m\n",
            "\u001b[?25h  Preparing metadata (setup.py) ... \u001b[?25l\u001b[?25hdone\n",
            "Collecting yacs\n",
            "  Downloading yacs-0.1.8-py3-none-any.whl.metadata (639 bytes)\n",
            "Requirement already satisfied: tqdm in /usr/local/lib/python3.12/dist-packages (4.67.1)\n",
            "Requirement already satisfied: numpy in /usr/local/lib/python3.12/dist-packages (2.0.2)\n",
            "Requirement already satisfied: matplotlib in /usr/local/lib/python3.12/dist-packages (3.10.0)\n",
            "Requirement already satisfied: filelock in /usr/local/lib/python3.12/dist-packages (from torch) (3.19.1)\n",
            "Requirement already satisfied: typing-extensions>=4.10.0 in /usr/local/lib/python3.12/dist-packages (from torch) (4.15.0)\n",
            "Requirement already satisfied: setuptools in /usr/local/lib/python3.12/dist-packages (from torch) (75.2.0)\n",
            "Requirement already satisfied: sympy>=1.13.3 in /usr/local/lib/python3.12/dist-packages (from torch) (1.13.3)\n",
            "Requirement already satisfied: networkx in /usr/local/lib/python3.12/dist-packages (from torch) (3.5)\n",
            "Requirement already satisfied: jinja2 in /usr/local/lib/python3.12/dist-packages (from torch) (3.1.6)\n",
            "Requirement already satisfied: fsspec in /usr/local/lib/python3.12/dist-packages (from torch) (2025.3.0)\n",
            "Requirement already satisfied: nvidia-cuda-nvrtc-cu12==12.6.77 in /usr/local/lib/python3.12/dist-packages (from torch) (12.6.77)\n",
            "Requirement already satisfied: nvidia-cuda-runtime-cu12==12.6.77 in /usr/local/lib/python3.12/dist-packages (from torch) (12.6.77)\n",
            "Requirement already satisfied: nvidia-cuda-cupti-cu12==12.6.80 in /usr/local/lib/python3.12/dist-packages (from torch) (12.6.80)\n",
            "Requirement already satisfied: nvidia-cudnn-cu12==9.10.2.21 in /usr/local/lib/python3.12/dist-packages (from torch) (9.10.2.21)\n",
            "Requirement already satisfied: nvidia-cublas-cu12==12.6.4.1 in /usr/local/lib/python3.12/dist-packages (from torch) (12.6.4.1)\n",
            "Requirement already satisfied: nvidia-cufft-cu12==11.3.0.4 in /usr/local/lib/python3.12/dist-packages (from torch) (11.3.0.4)\n",
            "Requirement already satisfied: nvidia-curand-cu12==10.3.7.77 in /usr/local/lib/python3.12/dist-packages (from torch) (10.3.7.77)\n",
            "Requirement already satisfied: nvidia-cusolver-cu12==11.7.1.2 in /usr/local/lib/python3.12/dist-packages (from torch) (11.7.1.2)\n",
            "Requirement already satisfied: nvidia-cusparse-cu12==12.5.4.2 in /usr/local/lib/python3.12/dist-packages (from torch) (12.5.4.2)\n",
            "Requirement already satisfied: nvidia-cusparselt-cu12==0.7.1 in /usr/local/lib/python3.12/dist-packages (from torch) (0.7.1)\n",
            "Requirement already satisfied: nvidia-nccl-cu12==2.27.3 in /usr/local/lib/python3.12/dist-packages (from torch) (2.27.3)\n",
            "Requirement already satisfied: nvidia-nvtx-cu12==12.6.77 in /usr/local/lib/python3.12/dist-packages (from torch) (12.6.77)\n",
            "Requirement already satisfied: nvidia-nvjitlink-cu12==12.6.85 in /usr/local/lib/python3.12/dist-packages (from torch) (12.6.85)\n",
            "Requirement already satisfied: nvidia-cufile-cu12==1.11.1.6 in /usr/local/lib/python3.12/dist-packages (from torch) (1.11.1.6)\n",
            "Requirement already satisfied: triton==3.4.0 in /usr/local/lib/python3.12/dist-packages (from torch) (3.4.0)\n",
            "Requirement already satisfied: pillow!=8.3.*,>=5.3.0 in /usr/local/lib/python3.12/dist-packages (from torchvision) (11.3.0)\n",
            "Requirement already satisfied: pyyaml>=5.1 in /usr/local/lib/python3.12/dist-packages (from fvcore) (6.0.3)\n",
            "Requirement already satisfied: termcolor>=1.1 in /usr/local/lib/python3.12/dist-packages (from fvcore) (3.1.0)\n",
            "Requirement already satisfied: tabulate in /usr/local/lib/python3.12/dist-packages (from fvcore) (0.9.0)\n",
            "Collecting portalocker (from iopath)\n",
            "  Downloading portalocker-3.2.0-py3-none-any.whl.metadata (8.7 kB)\n",
            "Requirement already satisfied: contourpy>=1.0.1 in /usr/local/lib/python3.12/dist-packages (from matplotlib) (1.3.3)\n",
            "Requirement already satisfied: cycler>=0.10 in /usr/local/lib/python3.12/dist-packages (from matplotlib) (0.12.1)\n",
            "Requirement already satisfied: fonttools>=4.22.0 in /usr/local/lib/python3.12/dist-packages (from matplotlib) (4.60.1)\n",
            "Requirement already satisfied: kiwisolver>=1.3.1 in /usr/local/lib/python3.12/dist-packages (from matplotlib) (1.4.9)\n",
            "Requirement already satisfied: packaging>=20.0 in /usr/local/lib/python3.12/dist-packages (from matplotlib) (25.0)\n",
            "Requirement already satisfied: pyparsing>=2.3.1 in /usr/local/lib/python3.12/dist-packages (from matplotlib) (3.2.5)\n",
            "Requirement already satisfied: python-dateutil>=2.7 in /usr/local/lib/python3.12/dist-packages (from matplotlib) (2.9.0.post0)\n",
            "Requirement already satisfied: six>=1.5 in /usr/local/lib/python3.12/dist-packages (from python-dateutil>=2.7->matplotlib) (1.17.0)\n",
            "Requirement already satisfied: mpmath<1.4,>=1.1.0 in /usr/local/lib/python3.12/dist-packages (from sympy>=1.13.3->torch) (1.3.0)\n",
            "Requirement already satisfied: MarkupSafe>=2.0 in /usr/local/lib/python3.12/dist-packages (from jinja2->torch) (3.0.3)\n",
            "Downloading yacs-0.1.8-py3-none-any.whl (14 kB)\n",
            "Downloading portalocker-3.2.0-py3-none-any.whl (22 kB)\n",
            "Building wheels for collected packages: fvcore, iopath\n",
            "  Building wheel for fvcore (setup.py) ... \u001b[?25l\u001b[?25hdone\n",
            "  Created wheel for fvcore: filename=fvcore-0.1.5.post20221221-py3-none-any.whl size=61397 sha256=513a400fe265468f7d9799b94971eae62f61b8438d1156b85b0927e1e9e722eb\n",
            "  Stored in directory: /root/.cache/pip/wheels/ed/9f/a5/e4f5b27454ccd4596bd8b62432c7d6b1ca9fa22aef9d70a16a\n",
            "  Building wheel for iopath (setup.py) ... \u001b[?25l\u001b[?25hdone\n",
            "  Created wheel for iopath: filename=iopath-0.1.10-py3-none-any.whl size=31527 sha256=c53f6672861a9a61e66a0edb3900e773d6c6ab83955b02e2aa5106868618c6a1\n",
            "  Stored in directory: /root/.cache/pip/wheels/7c/96/04/4f5f31ff812f684f69f40cb1634357812220aac58d4698048c\n",
            "Successfully built fvcore iopath\n",
            "Installing collected packages: yacs, portalocker, iopath, fvcore\n",
            "Successfully installed fvcore-0.1.5.post20221221 iopath-0.1.10 portalocker-3.2.0 yacs-0.1.8\n"
          ]
        }
      ]
    },
    {
      "cell_type": "code",
      "source": [
        "!python   MetaKAN/function_fitting/train.py --model KAN --optimizer lbfgs --lr 1 --dataset I.6.20b --layers_width 5 5 5 --loss mse"
      ],
      "metadata": {
        "colab": {
          "base_uri": "https://localhost:8080/"
        },
        "id": "5_MQ93PCKbpc",
        "outputId": "141d85ae-4e9d-4a97-dd6b-e852bc91e010"
      },
      "execution_count": 15,
      "outputs": [
        {
          "output_type": "stream",
          "name": "stdout",
          "text": [
            "seed 1314\n",
            "Log directory:  ./logs/I.6.20b/KAN/5_5_5__False__gelu__1024__100__1.0__1314/5__3__silu__-1_1\n",
            "2025-10-10 09:14:27,262 - INFO - KANbeFair(\n",
            "  (layers): ModuleList(\n",
            "    (0): KAN(\n",
            "      (biases): ModuleList(\n",
            "        (0-2): 3 x Linear(in_features=5, out_features=1, bias=False)\n",
            "        (3): Linear(in_features=1, out_features=1, bias=False)\n",
            "      )\n",
            "      (act_fun): ModuleList(\n",
            "        (0-3): 4 x KANLayer(\n",
            "          (base_fun): SiLU()\n",
            "        )\n",
            "      )\n",
            "      (base_fun): SiLU()\n",
            "      (symbolic_fun): ModuleList(\n",
            "        (0-3): 4 x Symbolic_KANLayer()\n",
            "      )\n",
            "    )\n",
            "  )\n",
            ")\n",
            "2025-10-10 09:14:27,264 - INFO - Number of parameters: 1,556; Number of FLOPs: 0\n",
            "2025-10-10 09:14:29,184 - INFO - Train Epoch: 1 [0/1000 (0%)]\tLoss: 0.013185655698180199\n",
            "2025-10-10 09:14:29,214 - INFO - \ttrain set: Average loss: 0.085147\n",
            "2025-10-10 09:14:29,273 - INFO - \ttest set: Average loss: 0.084730\n",
            "2025-10-10 09:14:30,231 - INFO - \ttrain set: Average loss: 0.061828\n",
            "2025-10-10 09:14:30,291 - INFO - \ttest set: Average loss: 0.062043\n",
            "2025-10-10 09:14:31,242 - INFO - \ttrain set: Average loss: 0.044052\n",
            "2025-10-10 09:14:31,301 - INFO - \ttest set: Average loss: 0.042311\n",
            "2025-10-10 09:14:32,257 - INFO - \ttrain set: Average loss: 0.032459\n",
            "2025-10-10 09:14:32,315 - INFO - \ttest set: Average loss: 0.032177\n",
            "2025-10-10 09:14:33,279 - INFO - \ttrain set: Average loss: 0.023687\n",
            "2025-10-10 09:14:33,339 - INFO - \ttest set: Average loss: 0.025409\n",
            "2025-10-10 09:14:34,285 - INFO - \ttrain set: Average loss: 0.016713\n",
            "2025-10-10 09:14:34,345 - INFO - \ttest set: Average loss: 0.018083\n",
            "2025-10-10 09:14:35,483 - INFO - \ttrain set: Average loss: 0.014073\n",
            "2025-10-10 09:14:35,543 - INFO - \ttest set: Average loss: 0.016183\n",
            "2025-10-10 09:14:37,060 - INFO - \ttrain set: Average loss: 0.011712\n",
            "2025-10-10 09:14:37,174 - INFO - \ttest set: Average loss: 0.013976\n",
            "2025-10-10 09:14:38,647 - INFO - \ttrain set: Average loss: 0.010711\n",
            "2025-10-10 09:14:38,743 - INFO - \ttest set: Average loss: 0.012892\n",
            "2025-10-10 09:14:40,197 - INFO - \ttrain set: Average loss: 0.009748\n",
            "2025-10-10 09:14:40,256 - INFO - \ttest set: Average loss: 0.011846\n",
            "2025-10-10 09:14:41,341 - INFO - Train Epoch: 11 [0/1000 (0%)]\tLoss: 0.00016513309674337506\n",
            "2025-10-10 09:14:41,373 - INFO - \ttrain set: Average loss: 0.008491\n",
            "2025-10-10 09:14:41,448 - INFO - \ttest set: Average loss: 0.010493\n",
            "2025-10-10 09:14:42,607 - INFO - \ttrain set: Average loss: 0.007759\n",
            "2025-10-10 09:14:42,665 - INFO - \ttest set: Average loss: 0.009522\n",
            "2025-10-10 09:14:43,761 - INFO - \ttrain set: Average loss: 0.007234\n",
            "2025-10-10 09:14:43,820 - INFO - \ttest set: Average loss: 0.008856\n",
            "2025-10-10 09:14:44,917 - INFO - \ttrain set: Average loss: 0.006959\n",
            "2025-10-10 09:14:44,976 - INFO - \ttest set: Average loss: 0.008593\n",
            "2025-10-10 09:14:46,115 - INFO - \ttrain set: Average loss: 0.006776\n",
            "2025-10-10 09:14:46,175 - INFO - \ttest set: Average loss: 0.008378\n",
            "2025-10-10 09:14:47,308 - INFO - \ttrain set: Average loss: 0.006699\n",
            "2025-10-10 09:14:47,369 - INFO - \ttest set: Average loss: 0.008283\n",
            "2025-10-10 09:14:48,527 - INFO - \ttrain set: Average loss: 0.006502\n",
            "2025-10-10 09:14:48,585 - INFO - \ttest set: Average loss: 0.008190\n",
            "2025-10-10 09:14:49,796 - INFO - \ttrain set: Average loss: 0.006213\n",
            "2025-10-10 09:14:49,896 - INFO - \ttest set: Average loss: 0.007951\n",
            "2025-10-10 09:14:51,457 - INFO - \ttrain set: Average loss: 0.005981\n",
            "2025-10-10 09:14:51,548 - INFO - \ttest set: Average loss: 0.007771\n",
            "2025-10-10 09:14:53,031 - INFO - \ttrain set: Average loss: 0.005790\n",
            "2025-10-10 09:14:53,136 - INFO - \ttest set: Average loss: 0.007557\n",
            "2025-10-10 09:14:54,502 - INFO - Train Epoch: 21 [0/1000 (0%)]\tLoss: 6.868010677862912e-05\n",
            "2025-10-10 09:14:54,532 - INFO - \ttrain set: Average loss: 0.005666\n",
            "2025-10-10 09:14:54,592 - INFO - \ttest set: Average loss: 0.007461\n",
            "2025-10-10 09:14:55,800 - INFO - \ttrain set: Average loss: 0.005560\n",
            "2025-10-10 09:14:55,861 - INFO - \ttest set: Average loss: 0.007352\n",
            "2025-10-10 09:14:57,137 - INFO - \ttrain set: Average loss: 0.005513\n",
            "2025-10-10 09:14:57,212 - INFO - \ttest set: Average loss: 0.007296\n",
            "2025-10-10 09:14:58,385 - INFO - \ttrain set: Average loss: 0.005391\n",
            "2025-10-10 09:14:58,443 - INFO - \ttest set: Average loss: 0.007243\n",
            "2025-10-10 09:14:59,642 - INFO - \ttrain set: Average loss: 0.005312\n",
            "2025-10-10 09:14:59,703 - INFO - \ttest set: Average loss: 0.007113\n",
            "2025-10-10 09:15:00,987 - INFO - \ttrain set: Average loss: 0.005257\n",
            "2025-10-10 09:15:01,046 - INFO - \ttest set: Average loss: 0.007057\n",
            "2025-10-10 09:15:02,261 - INFO - \ttrain set: Average loss: 0.005221\n",
            "2025-10-10 09:15:02,320 - INFO - \ttest set: Average loss: 0.007050\n",
            "2025-10-10 09:15:03,616 - INFO - \ttrain set: Average loss: 0.005126\n",
            "2025-10-10 09:15:03,674 - INFO - \ttest set: Average loss: 0.006947\n",
            "2025-10-10 09:15:04,091 - INFO - \ttrain set: Average loss: 0.005126\n",
            "2025-10-10 09:15:04,177 - INFO - \ttest set: Average loss: 0.006947\n",
            "2025-10-10 09:15:04,871 - INFO - \ttrain set: Average loss: 0.005104\n",
            "2025-10-10 09:15:04,952 - INFO - \ttest set: Average loss: 0.006910\n",
            "2025-10-10 09:15:06,506 - INFO - Train Epoch: 31 [0/1000 (0%)]\tLoss: 5.4266361985355616e-05\n",
            "2025-10-10 09:15:06,551 - INFO - \ttrain set: Average loss: 0.005062\n",
            "2025-10-10 09:15:06,644 - INFO - \ttest set: Average loss: 0.006849\n",
            "2025-10-10 09:15:07,082 - INFO - \ttrain set: Average loss: 0.005062\n",
            "2025-10-10 09:15:07,173 - INFO - \ttest set: Average loss: 0.006849\n",
            "2025-10-10 09:15:07,470 - INFO - \ttrain set: Average loss: 0.005062\n",
            "2025-10-10 09:15:07,567 - INFO - \ttest set: Average loss: 0.006849\n",
            "2025-10-10 09:15:07,945 - INFO - \ttrain set: Average loss: 0.005062\n",
            "2025-10-10 09:15:08,006 - INFO - \ttest set: Average loss: 0.006849\n",
            "2025-10-10 09:15:08,626 - INFO - \ttrain set: Average loss: 0.005029\n",
            "2025-10-10 09:15:08,685 - INFO - \ttest set: Average loss: 0.006801\n",
            "2025-10-10 09:15:08,913 - INFO - \ttrain set: Average loss: 0.005029\n",
            "2025-10-10 09:15:08,970 - INFO - \ttest set: Average loss: 0.006801\n",
            "2025-10-10 09:15:09,309 - INFO - \ttrain set: Average loss: 0.005029\n",
            "2025-10-10 09:15:09,369 - INFO - \ttest set: Average loss: 0.006801\n",
            "2025-10-10 09:15:09,535 - INFO - \ttrain set: Average loss: 0.005029\n",
            "2025-10-10 09:15:09,595 - INFO - \ttest set: Average loss: 0.006801\n",
            "2025-10-10 09:15:09,758 - INFO - \ttrain set: Average loss: 0.005029\n",
            "2025-10-10 09:15:09,821 - INFO - \ttest set: Average loss: 0.006801\n",
            "2025-10-10 09:15:10,004 - INFO - \ttrain set: Average loss: 0.005029\n",
            "2025-10-10 09:15:10,068 - INFO - \ttest set: Average loss: 0.006801\n",
            "2025-10-10 09:15:10,405 - INFO - Train Epoch: 41 [0/1000 (0%)]\tLoss: 5.385822441894561e-05\n",
            "2025-10-10 09:15:10,433 - INFO - \ttrain set: Average loss: 0.005029\n",
            "2025-10-10 09:15:10,498 - INFO - \ttest set: Average loss: 0.006801\n",
            "2025-10-10 09:15:10,862 - INFO - \ttrain set: Average loss: 0.005029\n",
            "2025-10-10 09:15:10,937 - INFO - \ttest set: Average loss: 0.006801\n",
            "2025-10-10 09:15:11,105 - INFO - \ttrain set: Average loss: 0.005029\n",
            "2025-10-10 09:15:11,182 - INFO - \ttest set: Average loss: 0.006801\n",
            "2025-10-10 09:15:11,345 - INFO - \ttrain set: Average loss: 0.005029\n",
            "2025-10-10 09:15:11,404 - INFO - \ttest set: Average loss: 0.006801\n",
            "2025-10-10 09:15:11,579 - INFO - \ttrain set: Average loss: 0.005029\n",
            "2025-10-10 09:15:11,639 - INFO - \ttest set: Average loss: 0.006801\n",
            "2025-10-10 09:15:11,763 - INFO - \ttrain set: Average loss: 0.005029\n",
            "2025-10-10 09:15:11,823 - INFO - \ttest set: Average loss: 0.006801\n",
            "2025-10-10 09:15:12,046 - INFO - \ttrain set: Average loss: 0.005029\n",
            "2025-10-10 09:15:12,109 - INFO - \ttest set: Average loss: 0.006801\n",
            "2025-10-10 09:15:12,375 - INFO - \ttrain set: Average loss: 0.005029\n",
            "2025-10-10 09:15:12,434 - INFO - \ttest set: Average loss: 0.006801\n",
            "2025-10-10 09:15:12,638 - INFO - \ttrain set: Average loss: 0.005029\n",
            "2025-10-10 09:15:12,700 - INFO - \ttest set: Average loss: 0.006801\n",
            "2025-10-10 09:15:12,830 - INFO - \ttrain set: Average loss: 0.005029\n",
            "2025-10-10 09:15:12,889 - INFO - \ttest set: Average loss: 0.006801\n",
            "2025-10-10 09:15:13,019 - INFO - Train Epoch: 51 [0/1000 (0%)]\tLoss: 5.3858220780966803e-05\n",
            "2025-10-10 09:15:13,048 - INFO - \ttrain set: Average loss: 0.005029\n",
            "2025-10-10 09:15:13,107 - INFO - \ttest set: Average loss: 0.006801\n",
            "2025-10-10 09:15:13,330 - INFO - \ttrain set: Average loss: 0.005029\n",
            "2025-10-10 09:15:13,389 - INFO - \ttest set: Average loss: 0.006801\n",
            "2025-10-10 09:15:13,603 - INFO - \ttrain set: Average loss: 0.005029\n",
            "2025-10-10 09:15:13,666 - INFO - \ttest set: Average loss: 0.006801\n",
            "2025-10-10 09:15:13,883 - INFO - \ttrain set: Average loss: 0.005029\n",
            "2025-10-10 09:15:13,941 - INFO - \ttest set: Average loss: 0.006801\n",
            "2025-10-10 09:15:14,168 - INFO - \ttrain set: Average loss: 0.005029\n",
            "2025-10-10 09:15:14,230 - INFO - \ttest set: Average loss: 0.006801\n",
            "2025-10-10 09:15:14,432 - INFO - \ttrain set: Average loss: 0.005029\n",
            "2025-10-10 09:15:14,493 - INFO - \ttest set: Average loss: 0.006801\n",
            "2025-10-10 09:15:14,696 - INFO - \ttrain set: Average loss: 0.005029\n",
            "2025-10-10 09:15:14,756 - INFO - \ttest set: Average loss: 0.006801\n",
            "2025-10-10 09:15:14,975 - INFO - \ttrain set: Average loss: 0.005029\n",
            "2025-10-10 09:15:15,035 - INFO - \ttest set: Average loss: 0.006801\n",
            "2025-10-10 09:15:15,252 - INFO - \ttrain set: Average loss: 0.005029\n",
            "2025-10-10 09:15:15,320 - INFO - \ttest set: Average loss: 0.006801\n",
            "2025-10-10 09:15:15,532 - INFO - \ttrain set: Average loss: 0.005029\n",
            "2025-10-10 09:15:15,590 - INFO - \ttest set: Average loss: 0.006801\n",
            "2025-10-10 09:15:15,792 - INFO - Train Epoch: 61 [0/1000 (0%)]\tLoss: 5.3858220780966803e-05\n",
            "2025-10-10 09:15:15,821 - INFO - \ttrain set: Average loss: 0.005029\n",
            "2025-10-10 09:15:15,879 - INFO - \ttest set: Average loss: 0.006801\n",
            "2025-10-10 09:15:16,085 - INFO - \ttrain set: Average loss: 0.005029\n",
            "2025-10-10 09:15:16,162 - INFO - \ttest set: Average loss: 0.006801\n",
            "2025-10-10 09:15:16,361 - INFO - \ttrain set: Average loss: 0.005029\n",
            "2025-10-10 09:15:16,422 - INFO - \ttest set: Average loss: 0.006801\n",
            "2025-10-10 09:15:16,626 - INFO - \ttrain set: Average loss: 0.005029\n",
            "2025-10-10 09:15:16,691 - INFO - \ttest set: Average loss: 0.006801\n",
            "2025-10-10 09:15:16,895 - INFO - \ttrain set: Average loss: 0.005029\n",
            "2025-10-10 09:15:16,955 - INFO - \ttest set: Average loss: 0.006801\n",
            "2025-10-10 09:15:17,179 - INFO - \ttrain set: Average loss: 0.005029\n",
            "2025-10-10 09:15:17,238 - INFO - \ttest set: Average loss: 0.006801\n",
            "2025-10-10 09:15:17,450 - INFO - \ttrain set: Average loss: 0.005029\n",
            "2025-10-10 09:15:17,511 - INFO - \ttest set: Average loss: 0.006801\n",
            "2025-10-10 09:15:17,785 - INFO - \ttrain set: Average loss: 0.005029\n",
            "2025-10-10 09:15:17,875 - INFO - \ttest set: Average loss: 0.006801\n",
            "2025-10-10 09:15:18,148 - INFO - \ttrain set: Average loss: 0.005029\n",
            "2025-10-10 09:15:18,240 - INFO - \ttest set: Average loss: 0.006801\n",
            "2025-10-10 09:15:18,516 - INFO - \ttrain set: Average loss: 0.005029\n",
            "2025-10-10 09:15:18,600 - INFO - \ttest set: Average loss: 0.006801\n",
            "2025-10-10 09:15:18,865 - INFO - Train Epoch: 71 [0/1000 (0%)]\tLoss: 5.3858220780966803e-05\n",
            "2025-10-10 09:15:18,905 - INFO - \ttrain set: Average loss: 0.005029\n",
            "2025-10-10 09:15:18,986 - INFO - \ttest set: Average loss: 0.006801\n",
            "2025-10-10 09:15:19,281 - INFO - \ttrain set: Average loss: 0.005029\n",
            "2025-10-10 09:15:19,380 - INFO - \ttest set: Average loss: 0.006801\n",
            "2025-10-10 09:15:19,657 - INFO - \ttrain set: Average loss: 0.005029\n",
            "2025-10-10 09:15:19,746 - INFO - \ttest set: Average loss: 0.006801\n",
            "2025-10-10 09:15:20,022 - INFO - \ttrain set: Average loss: 0.005029\n",
            "2025-10-10 09:15:20,106 - INFO - \ttest set: Average loss: 0.006801\n",
            "2025-10-10 09:15:20,411 - INFO - \ttrain set: Average loss: 0.005029\n",
            "2025-10-10 09:15:20,508 - INFO - \ttest set: Average loss: 0.006801\n",
            "2025-10-10 09:15:20,803 - INFO - \ttrain set: Average loss: 0.005029\n",
            "2025-10-10 09:15:20,892 - INFO - \ttest set: Average loss: 0.006801\n",
            "2025-10-10 09:15:21,197 - INFO - \ttrain set: Average loss: 0.005029\n",
            "2025-10-10 09:15:21,296 - INFO - \ttest set: Average loss: 0.006801\n",
            "2025-10-10 09:15:21,594 - INFO - \ttrain set: Average loss: 0.005029\n",
            "2025-10-10 09:15:21,658 - INFO - \ttest set: Average loss: 0.006801\n",
            "2025-10-10 09:15:21,867 - INFO - \ttrain set: Average loss: 0.005029\n",
            "2025-10-10 09:15:21,925 - INFO - \ttest set: Average loss: 0.006801\n",
            "2025-10-10 09:15:22,135 - INFO - \ttrain set: Average loss: 0.005029\n",
            "2025-10-10 09:15:22,198 - INFO - \ttest set: Average loss: 0.006801\n",
            "2025-10-10 09:15:22,395 - INFO - Train Epoch: 81 [0/1000 (0%)]\tLoss: 5.3858220780966803e-05\n",
            "2025-10-10 09:15:22,423 - INFO - \ttrain set: Average loss: 0.005029\n",
            "2025-10-10 09:15:22,487 - INFO - \ttest set: Average loss: 0.006801\n",
            "2025-10-10 09:15:22,704 - INFO - \ttrain set: Average loss: 0.005029\n",
            "2025-10-10 09:15:22,768 - INFO - \ttest set: Average loss: 0.006801\n",
            "2025-10-10 09:15:22,971 - INFO - \ttrain set: Average loss: 0.005029\n",
            "2025-10-10 09:15:23,030 - INFO - \ttest set: Average loss: 0.006801\n",
            "2025-10-10 09:15:23,246 - INFO - \ttrain set: Average loss: 0.005029\n",
            "2025-10-10 09:15:23,306 - INFO - \ttest set: Average loss: 0.006801\n",
            "2025-10-10 09:15:23,514 - INFO - \ttrain set: Average loss: 0.005029\n",
            "2025-10-10 09:15:23,593 - INFO - \ttest set: Average loss: 0.006801\n",
            "2025-10-10 09:15:23,801 - INFO - \ttrain set: Average loss: 0.005029\n",
            "2025-10-10 09:15:23,861 - INFO - \ttest set: Average loss: 0.006801\n",
            "2025-10-10 09:15:24,073 - INFO - \ttrain set: Average loss: 0.005029\n",
            "2025-10-10 09:15:24,132 - INFO - \ttest set: Average loss: 0.006801\n",
            "2025-10-10 09:15:24,333 - INFO - \ttrain set: Average loss: 0.005029\n",
            "2025-10-10 09:15:24,401 - INFO - \ttest set: Average loss: 0.006801\n",
            "2025-10-10 09:15:24,617 - INFO - \ttrain set: Average loss: 0.005029\n",
            "2025-10-10 09:15:24,679 - INFO - \ttest set: Average loss: 0.006801\n",
            "2025-10-10 09:15:24,884 - INFO - \ttrain set: Average loss: 0.005029\n",
            "2025-10-10 09:15:24,942 - INFO - \ttest set: Average loss: 0.006801\n",
            "2025-10-10 09:15:25,160 - INFO - Train Epoch: 91 [0/1000 (0%)]\tLoss: 5.3858220780966803e-05\n",
            "2025-10-10 09:15:25,189 - INFO - \ttrain set: Average loss: 0.005029\n",
            "2025-10-10 09:15:25,248 - INFO - \ttest set: Average loss: 0.006801\n",
            "2025-10-10 09:15:25,457 - INFO - \ttrain set: Average loss: 0.005029\n",
            "2025-10-10 09:15:25,519 - INFO - \ttest set: Average loss: 0.006801\n",
            "2025-10-10 09:15:25,739 - INFO - \ttrain set: Average loss: 0.005029\n",
            "2025-10-10 09:15:25,804 - INFO - \ttest set: Average loss: 0.006801\n",
            "2025-10-10 09:15:26,013 - INFO - \ttrain set: Average loss: 0.005029\n",
            "2025-10-10 09:15:26,077 - INFO - \ttest set: Average loss: 0.006801\n",
            "2025-10-10 09:15:26,293 - INFO - \ttrain set: Average loss: 0.005029\n",
            "2025-10-10 09:15:26,352 - INFO - \ttest set: Average loss: 0.006801\n",
            "2025-10-10 09:15:26,740 - INFO - \ttrain set: Average loss: 0.005029\n",
            "2025-10-10 09:15:26,799 - INFO - \ttest set: Average loss: 0.006801\n",
            "2025-10-10 09:15:27,009 - INFO - \ttrain set: Average loss: 0.005029\n",
            "2025-10-10 09:15:27,067 - INFO - \ttest set: Average loss: 0.006801\n",
            "2025-10-10 09:15:27,277 - INFO - \ttrain set: Average loss: 0.005029\n",
            "2025-10-10 09:15:27,339 - INFO - \ttest set: Average loss: 0.006801\n",
            "2025-10-10 09:15:27,557 - INFO - \ttrain set: Average loss: 0.005029\n",
            "2025-10-10 09:15:27,618 - INFO - \ttest set: Average loss: 0.006801\n",
            "2025-10-10 09:15:27,844 - INFO - \ttrain set: Average loss: 0.005029\n",
            "2025-10-10 09:15:27,907 - INFO - \ttest set: Average loss: 0.006801\n",
            "2025-10-10 09:15:27,907 - INFO - total training time: 50.406999225000504 seconds; average training time per epoch: 0.504069992250005 seconds\n",
            "2025-10-10 09:15:36,821 - INFO - training process was finished\n"
          ]
        }
      ]
    },
    {
      "cell_type": "code",
      "source": [
        "!python MetaKAN/function_fitting/train_hyper.py --model HyperKAN --optimizer lbfgs --lr 1 --dataset I.6.20b --layers_width 5 5 5 --loss mse --embedding_dim 1 --hidden_dim 16"
      ],
      "metadata": {
        "id": "nOqNqg6pKnSq",
        "outputId": "58b20a5a-c85c-4a1c-c015-b6381dd54c10",
        "colab": {
          "base_uri": "https://localhost:8080/"
        }
      },
      "execution_count": 18,
      "outputs": [
        {
          "output_type": "stream",
          "name": "stdout",
          "text": [
            "python3: can't open file '/content/drive/MyDrive/mml/MetaKAN/function_fitting/train_meta.py': [Errno 2] No such file or directory\n"
          ]
        }
      ]
    },
    {
      "cell_type": "code",
      "source": [
        "!python MetaKAN/image_classification_conv/train_meta.py --model MetaKAN8_M --n_hypernets 1 --optim_set double --lr_h 1e-4 --lr_e 1e-3 --grid_size 5 --spline_order 3 --embedding_dim 1 --hidden_dim 32 --dataset CIFAR10 --batch_size 128 --epochs 50 \\"
      ],
      "metadata": {
        "id": "ySPBl89pyCsA",
        "colab": {
          "base_uri": "https://localhost:8080/"
        },
        "outputId": "cd8c986c-9a3d-4399-9ea4-50a27dcb213f"
      },
      "execution_count": 20,
      "outputs": [
        {
          "output_type": "stream",
          "name": "stdout",
          "text": [
            "usage: train_meta.py [-h] [--model MODEL] [--optimizer OPTIMIZER]\n",
            "                     [--scheduler SCHEDULER] [--dataset DATASET]\n",
            "                     [--groups GROUPS] [--gpu_id GPU_ID]\n",
            "                     [--norm_layer NORM_LAYER] [--batch-size BATCH_SIZE]\n",
            "                     [--test-batch-size TEST_BATCH_SIZE] [--epochs EPOCHS]\n",
            "                     [--lr LR] [--dropout_hyper DROPOUT_HYPER] [--gamma GAMMA]\n",
            "                     [--wd WD] [--wd_e WD_E] [--optim_set OPTIM_SET]\n",
            "                     [--seed SEED] [--log-interval LOG_INTERVAL]\n",
            "                     [--save-model]\n",
            "                     [--save-model-interval SAVE_MODEL_INTERVAL]\n",
            "                     [--embedding_dim EMBEDDING_DIM] [--n_metanets N_METANETS]\n",
            "                     [--hidden_dim HIDDEN_DIM] [--lr_h LR_H] [--lr_e LR_E]\n",
            "                     [--emb_sched] [--hypernet_sched]\n",
            "                     [--layer_emb_dim LAYER_EMB_DIM]\n",
            "train_meta.py: error: unrecognized arguments: --n_hypernets 1 --grid_size 5 --spline_order 3 --batch_size 128 \\\n"
          ]
        }
      ]
    },
    {
      "cell_type": "code",
      "source": [],
      "metadata": {
        "id": "kLT47xM7aon7"
      },
      "execution_count": null,
      "outputs": []
    }
  ]
}